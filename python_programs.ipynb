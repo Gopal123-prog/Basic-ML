{
  "nbformat": 4,
  "nbformat_minor": 0,
  "metadata": {
    "colab": {
      "name": "python_programs.ipynb",
      "provenance": [],
      "authorship_tag": "ABX9TyNzTPQ205/8clLRYk7t6c9g",
      "include_colab_link": true
    },
    "kernelspec": {
      "name": "python3",
      "display_name": "Python 3"
    },
    "language_info": {
      "name": "python"
    }
  },
  "cells": [
    {
      "cell_type": "markdown",
      "metadata": {
        "id": "view-in-github",
        "colab_type": "text"
      },
      "source": [
        "<a href=\"https://colab.research.google.com/github/Gopal123-prog/Basic-ML/blob/main/python_programs.ipynb\" target=\"_parent\"><img src=\"https://colab.research.google.com/assets/colab-badge.svg\" alt=\"Open In Colab\"/></a>"
      ]
    },
    {
      "cell_type": "markdown",
      "metadata": {
        "id": "HJ_BGxH2pj4z"
      },
      "source": [
        "## Python program to find the GCD and LCM of given two numbers.\n"
      ]
    },
    {
      "cell_type": "code",
      "metadata": {
        "colab": {
          "base_uri": "https://localhost:8080/"
        },
        "id": "old8ekGVqVUQ",
        "outputId": "b68b2a76-4ac3-477d-c379-d1f5f92f5c79"
      },
      "source": [
        "a = int(input(\"enter the 1st num \")) \n",
        "b = int(input(\"enter the 2nd num \"))  \n",
        "c = 0\n",
        "if a > b : \n",
        "    s = b \n",
        "else : \n",
        "    s = a\n",
        "for i in range(1,s+1): \n",
        "    if a%i == 0 and b%i == 0: \n",
        "        c = i  \n",
        "print(\"GCD =\",c) \n",
        "print(\"LCD =\",(a*b)/i)"
      ],
      "execution_count": 3,
      "outputs": [
        {
          "output_type": "stream",
          "text": [
            "enter the 1st num 28\n",
            "enter the 2nd num 21\n",
            "GCD = 7\n",
            "LCD = 28.0\n"
          ],
          "name": "stdout"
        }
      ]
    },
    {
      "cell_type": "markdown",
      "metadata": {
        "id": "aZgTlhcnr2Wz"
      },
      "source": [
        "---"
      ]
    },
    {
      "cell_type": "markdown",
      "metadata": {
        "id": "D2j8zq34qxZk"
      },
      "source": [
        "##Python program to get the largest element of an array using the function."
      ]
    },
    {
      "cell_type": "code",
      "metadata": {
        "colab": {
          "base_uri": "https://localhost:8080/"
        },
        "id": "oX77ApGLrT7A",
        "outputId": "9d9248c7-b616-41b3-cdbb-e1e90fdd6547"
      },
      "source": [
        "a = [int(i) for i in input().split()] \n",
        "for i in range(len(a)-1): \n",
        "    for j in range(i):\n",
        "    \tif a[i] > a[i+1]:\n",
        "    \t\ta[i],a[i+1] = a[i+1],a[i] \n",
        "print(\"the largest num is \",a[len(a)-1])"
      ],
      "execution_count": 4,
      "outputs": [
        {
          "output_type": "stream",
          "text": [
            "2 5 87 36 54 92 21\n",
            "the largest num is  92\n"
          ],
          "name": "stdout"
        }
      ]
    },
    {
      "cell_type": "markdown",
      "metadata": {
        "id": "7Z6bm5uJr4k2"
      },
      "source": [
        "---"
      ]
    },
    {
      "cell_type": "markdown",
      "metadata": {
        "id": "q7kgyLtQreG2"
      },
      "source": [
        "##Python program to print all unique elements in an array."
      ]
    },
    {
      "cell_type": "code",
      "metadata": {
        "colab": {
          "base_uri": "https://localhost:8080/"
        },
        "id": "J3MqWLvdrp7g",
        "outputId": "4245ae60-1e11-4eca-d603-f22620483bf3"
      },
      "source": [
        "a = [int(i) for i in input().split()]\n",
        "b = [ ] \n",
        "for i in range(len(a)):  \n",
        "    count = 0\n",
        "    for j in range(len(a)):\n",
        "    \tif a[i] == a[j]:\n",
        "    \t\tcount += 1\n",
        "    if count == 1:\n",
        "    \t\tif a[i] not in b:\n",
        "    \t\t\tb.append(a[i])\n",
        "print(b)"
      ],
      "execution_count": 5,
      "outputs": [
        {
          "output_type": "stream",
          "text": [
            "21 54 36 21 8 36 9 43 27 0 8\n",
            "[54, 9, 43, 27, 0]\n"
          ],
          "name": "stdout"
        }
      ]
    }
  ]
}